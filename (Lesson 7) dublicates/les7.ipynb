{
 "cells": [
  {
   "attachments": {},
   "cell_type": "markdown",
   "metadata": {},
   "source": [
    "Обнаружение и ликвидация дубликатов"
   ]
  },
  {
   "cell_type": "code",
   "execution_count": 5,
   "metadata": {},
   "outputs": [
    {
     "name": "stdout",
     "output_type": "stream",
     "text": [
      "Число найденных дубликатов: 562\n",
      "Результирующее число записей: 29909\n"
     ]
    }
   ],
   "source": [
    "import pandas as pd\n",
    "import numpy as np\n",
    "\n",
    "sber_data=pd.read_csv('data/sber_data.csv', sep=',')\n",
    "sber_data['id'].nunique() == sber_data.shape[0]\n",
    "\n",
    "# метод dublicated(). параметры : SUBSET - список признаков, по которым производится поиск дубликатов\n",
    "# Найдём число полных дубликатов таблице sber_data. Предварительно создадим список столбцов dupl_columns, \n",
    "# по которым будем искать совпадения (все столбцы, не включая id). Создадим маску дубликатов с помощью \n",
    "# метода duplicated() и произведём фильтрацию. Результат заносим в переменную sber_duplicates. \n",
    "# Выведем число строк в результирующем DataFrame:\n",
    "dupl_columns = list(sber_data.columns)\n",
    "dupl_columns.remove('id')\n",
    "\n",
    "mask = sber_data.duplicated(subset=dupl_columns)\n",
    "sber_duplicates = sber_data[mask]\n",
    "print(f'Число найденных дубликатов: {sber_duplicates.shape[0]}')\n",
    "# 562 дубликата\n",
    "\n",
    "# Теперь нам необходимо от них избавиться. Для этого легче всего воспользоваться методом drop_duplicates(), \n",
    "# который удаляет повторяющиеся записи из таблицы. Создадим новую таблицу sber_dedupped, которая будет \n",
    "# версией исходной таблицы, очищенной от полных дубликатов.\n",
    "\n",
    "sber_dedupped = sber_data.drop_duplicates(subset=dupl_columns)\n",
    "print(f'Результирующее число записей: {sber_dedupped.shape[0]}')"
   ]
  },
  {
   "attachments": {},
   "cell_type": "markdown",
   "metadata": {},
   "source": [
    "НЕИНФОРМАТИВНЫЕ ПРИЗНАКИ"
   ]
  },
  {
   "cell_type": "code",
   "execution_count": 7,
   "metadata": {},
   "outputs": [
    {
     "name": "stdout",
     "output_type": "stream",
     "text": [
      "id: 100.0% уникальных значений\n",
      "oil_chemistry_raion: 99.03% одинаковых значений\n",
      "railroad_terminal_raion: 96.27% одинаковых значений\n",
      "nuclear_reactor_raion: 97.17% одинаковых значений\n",
      "big_road1_1line: 97.44% одинаковых значений\n",
      "mosque_count_1000: 98.08% одинаковых значений\n",
      "Результирующее число признаков: 55\n"
     ]
    }
   ],
   "source": [
    "# Существует правило 95 или 99. Если признак содержит 95 или 99 уникальных элементов или же одинаковых - этот признак \n",
    "# неинформативан. Лучше на основе его не строить модель\n",
    "\n",
    "# Создаём пустой список low_information_cols, куда будем добавлять названия признаков, которые мы посчитаем неинформативными.\n",
    "# В цикле пройдёмся по всем именам столбцов в таблице и для каждого будем совершать следующие действия: рассчитаем \n",
    "# top_freq — наибольшую относительную частоту с помощью метода value_counts() с параметром normalize=True. \n",
    "# Метод вернёт долю от общих данных, которую занимает каждое уникальное значение в признаке\n",
    "# рассчитаем nunique_ratio — отношение числа уникальных значений в столбце к размеру всего столбца. \n",
    "# Число уникальных значений в столбце получим с помощью метода nunique(), а размер признака — с помощью метода count(). \n",
    "# Например, для столбца id число уникальных значений — 30471; оно же равно размеру таблицы. \n",
    "# Поэтому результат отношения будет 1. Сравним каждое из полученных чисел с пороговым значением (у нас это 0.95) \n",
    "# и добавим в список неинформативных признаков, если условие истинно.\n",
    "#список неинформативных признаков\n",
    "low_information_cols = [] \n",
    "\n",
    "#цикл по всем столбцам\n",
    "for col in sber_data.columns:\n",
    "    #наибольшая относительная частота в признаке\n",
    "    top_freq = sber_data[col].value_counts(normalize=True).max()\n",
    "    #доля уникальных значений от размера признака\n",
    "    nunique_ratio = sber_data[col].nunique() / sber_data[col].count()\n",
    "    # сравниваем наибольшую частоту с порогом\n",
    "    if top_freq > 0.95:\n",
    "        low_information_cols.append(col)\n",
    "        print(f'{col}: {round(top_freq*100, 2)}% одинаковых значений')\n",
    "    # сравниваем долю уникальных значений с порогом\n",
    "    if nunique_ratio > 0.95:\n",
    "        low_information_cols.append(col)\n",
    "        print(f'{col}: {round(nunique_ratio*100, 2)}% уникальных значений')\n",
    "\n",
    "# дропнем весь этот мусор через drop\n",
    "information_sber_data = sber_data.drop(low_information_cols, axis=1)\n",
    "print(f'Результирующее число признаков: {information_sber_data.shape[1]}')"
   ]
  },
  {
   "attachments": {},
   "cell_type": "markdown",
   "metadata": {},
   "source": [
    "ВАЖНОСТЬ ПРИЗНАКОВ"
   ]
  },
  {
   "cell_type": "code",
   "execution_count": null,
   "metadata": {},
   "outputs": [],
   "source": [
    "# На самом деле информативность признаков определяется не только числом уникальных значений, но и их влиянием на \n",
    "# целевой признак (тот, который мы хотим предсказать). Это называется важностью признака. \n",
    "\n",
    "# Признаки, которые обладают низкой важностью, называют нерелевантными признаками. Например, если бы в наших данных \n",
    "# о квартирах был признак, содержащий информацию о температуре воздуха за окном, он был бы нерелевантным. \n",
    "# Нерелевантные признаки могут быть не такими очевидными. В таких случаях применяются более сложные способы их поиска \n",
    "# с использованием статистики и моделей машинного обучения. Мы поговорим об этом позже, когда вплотную \n",
    "# подойдём к Machine Learning."
   ]
  }
 ],
 "metadata": {
  "kernelspec": {
   "display_name": "Python 3",
   "language": "python",
   "name": "python3"
  },
  "language_info": {
   "codemirror_mode": {
    "name": "ipython",
    "version": 3
   },
   "file_extension": ".py",
   "mimetype": "text/x-python",
   "name": "python",
   "nbconvert_exporter": "python",
   "pygments_lexer": "ipython3",
   "version": "3.9.10"
  },
  "orig_nbformat": 4
 },
 "nbformat": 4,
 "nbformat_minor": 2
}
