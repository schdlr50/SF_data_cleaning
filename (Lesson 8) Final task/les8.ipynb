{
 "cells": [
  {
   "attachments": {},
   "cell_type": "markdown",
   "metadata": {},
   "source": [
    "Закрепление знаний"
   ]
  },
  {
   "cell_type": "code",
   "execution_count": 30,
   "metadata": {},
   "outputs": [
    {
     "name": "stdout",
     "output_type": "stream",
     "text": [
      "<class 'pandas.core.frame.DataFrame'>\n",
      "RangeIndex: 778 entries, 0 to 777\n",
      "Data columns (total 10 columns):\n",
      " #   Column                    Non-Null Count  Dtype  \n",
      "---  ------                    --------------  -----  \n",
      " 0   Pregnancies               778 non-null    int64  \n",
      " 1   Glucose                   778 non-null    int64  \n",
      " 2   BloodPressure             778 non-null    int64  \n",
      " 3   SkinThickness             778 non-null    int64  \n",
      " 4   Insulin                   778 non-null    int64  \n",
      " 5   BMI                       778 non-null    float64\n",
      " 6   DiabetesPedigreeFunction  778 non-null    float64\n",
      " 7   Age                       778 non-null    int64  \n",
      " 8   Outcome                   778 non-null    int64  \n",
      " 9   Gender                    778 non-null    object \n",
      "dtypes: float64(2), int64(7), object(1)\n",
      "memory usage: 60.9+ KB\n"
     ]
    }
   ],
   "source": [
    "import pandas as pd\n",
    "import numpy as np\n",
    "\n",
    "diab_data=pd.read_csv('data/diabetes_data.csv', sep=',')\n",
    "diab_data.info()"
   ]
  },
  {
   "attachments": {},
   "cell_type": "markdown",
   "metadata": {},
   "source": [
    "Задание 8.1\n",
    "Начнём с поиска дубликатов в данных. Найдите все повторяющиеся строки в данных и удалите их. Для поиска используйте все признаки в данных. Сколько записей осталось в данных?"
   ]
  },
  {
   "cell_type": "code",
   "execution_count": 2,
   "metadata": {},
   "outputs": [
    {
     "name": "stdout",
     "output_type": "stream",
     "text": [
      "Число найденных дубликатов: 10\n",
      "Результирующее число записей: 768\n"
     ]
    }
   ],
   "source": [
    "dupl_col=list(diab_data.columns)\n",
    "mask1=diab_data.duplicated(subset=dupl_col)\n",
    "diab_duplicates = diab_data[mask1]\n",
    "print(f'Число найденных дубликатов: {diab_duplicates.shape[1]}')\n",
    "diab_dedupped = diab_data.drop_duplicates(subset=diab_data)\n",
    "print(f'Результирующее число записей: {diab_dedupped.shape[0]}')"
   ]
  },
  {
   "attachments": {},
   "cell_type": "markdown",
   "metadata": {},
   "source": [
    "Задание 8.2 Далее найдите все неинформативные признаки в данных и избавьтесь от них. В качестве порога информативности возьмите 0.95: удалите все признаки, для которых 95 % значений повторяются или 95 % записей уникальны. В ответ запишите имена признаков, которые вы нашли (без кавычек)."
   ]
  },
  {
   "cell_type": "code",
   "execution_count": 15,
   "metadata": {},
   "outputs": [
    {
     "name": "stdout",
     "output_type": "stream",
     "text": [
      "Gender: 100.0% одинаковых значений\n",
      "Результирующее число признаков: 9\n",
      "Результирующее число записей: 768\n"
     ]
    },
    {
     "data": {
      "text/html": [
       "<div>\n",
       "<style scoped>\n",
       "    .dataframe tbody tr th:only-of-type {\n",
       "        vertical-align: middle;\n",
       "    }\n",
       "\n",
       "    .dataframe tbody tr th {\n",
       "        vertical-align: top;\n",
       "    }\n",
       "\n",
       "    .dataframe thead th {\n",
       "        text-align: right;\n",
       "    }\n",
       "</style>\n",
       "<table border=\"1\" class=\"dataframe\">\n",
       "  <thead>\n",
       "    <tr style=\"text-align: right;\">\n",
       "      <th></th>\n",
       "      <th>Pregnancies</th>\n",
       "      <th>Glucose</th>\n",
       "      <th>BloodPressure</th>\n",
       "      <th>SkinThickness</th>\n",
       "      <th>Insulin</th>\n",
       "      <th>BMI</th>\n",
       "      <th>DiabetesPedigreeFunction</th>\n",
       "      <th>Age</th>\n",
       "      <th>Outcome</th>\n",
       "    </tr>\n",
       "  </thead>\n",
       "  <tbody>\n",
       "    <tr>\n",
       "      <th>0</th>\n",
       "      <td>6</td>\n",
       "      <td>98</td>\n",
       "      <td>58</td>\n",
       "      <td>33</td>\n",
       "      <td>190</td>\n",
       "      <td>34.0</td>\n",
       "      <td>0.430</td>\n",
       "      <td>43</td>\n",
       "      <td>0</td>\n",
       "    </tr>\n",
       "    <tr>\n",
       "      <th>1</th>\n",
       "      <td>2</td>\n",
       "      <td>112</td>\n",
       "      <td>75</td>\n",
       "      <td>32</td>\n",
       "      <td>0</td>\n",
       "      <td>35.7</td>\n",
       "      <td>0.148</td>\n",
       "      <td>21</td>\n",
       "      <td>0</td>\n",
       "    </tr>\n",
       "    <tr>\n",
       "      <th>2</th>\n",
       "      <td>2</td>\n",
       "      <td>108</td>\n",
       "      <td>64</td>\n",
       "      <td>0</td>\n",
       "      <td>0</td>\n",
       "      <td>30.8</td>\n",
       "      <td>0.158</td>\n",
       "      <td>21</td>\n",
       "      <td>0</td>\n",
       "    </tr>\n",
       "    <tr>\n",
       "      <th>3</th>\n",
       "      <td>8</td>\n",
       "      <td>107</td>\n",
       "      <td>80</td>\n",
       "      <td>0</td>\n",
       "      <td>0</td>\n",
       "      <td>24.6</td>\n",
       "      <td>0.856</td>\n",
       "      <td>34</td>\n",
       "      <td>0</td>\n",
       "    </tr>\n",
       "    <tr>\n",
       "      <th>4</th>\n",
       "      <td>7</td>\n",
       "      <td>136</td>\n",
       "      <td>90</td>\n",
       "      <td>0</td>\n",
       "      <td>0</td>\n",
       "      <td>29.9</td>\n",
       "      <td>0.210</td>\n",
       "      <td>50</td>\n",
       "      <td>0</td>\n",
       "    </tr>\n",
       "  </tbody>\n",
       "</table>\n",
       "</div>"
      ],
      "text/plain": [
       "   Pregnancies  Glucose  BloodPressure  SkinThickness  Insulin   BMI   \n",
       "0            6       98             58             33      190  34.0  \\\n",
       "1            2      112             75             32        0  35.7   \n",
       "2            2      108             64              0        0  30.8   \n",
       "3            8      107             80              0        0  24.6   \n",
       "4            7      136             90              0        0  29.9   \n",
       "\n",
       "   DiabetesPedigreeFunction  Age  Outcome  \n",
       "0                     0.430   43        0  \n",
       "1                     0.148   21        0  \n",
       "2                     0.158   21        0  \n",
       "3                     0.856   34        0  \n",
       "4                     0.210   50        0  "
      ]
     },
     "execution_count": 15,
     "metadata": {},
     "output_type": "execute_result"
    }
   ],
   "source": [
    "low_information_cols = [] \n",
    "\n",
    "# цикл по всем столбцам\n",
    "for col in diab_dedupped.columns:\n",
    "    # наибольшая относительная частота в признаке\n",
    "    top_freq = diab_dedupped[col].value_counts(normalize=True).max()\n",
    "    # доля уникальных значений от размера признака\n",
    "    nunique_ratio = diab_dedupped[col].nunique() / diab_data[col].count()\n",
    "    # сравниваем наибольшую частоту с порогом\n",
    "    if top_freq > 0.95:\n",
    "        low_information_cols.append(col)\n",
    "        print(f'{col}: {round(top_freq*100, 2)}% одинаковых значений')\n",
    "    # сравниваем долю уникальных значений с порогом\n",
    "    if nunique_ratio > 0.95:\n",
    "        low_information_cols.append(col)\n",
    "        print(f'{col}: {round(nunique_ratio*100, 2)}% уникальных значений')\n",
    "\n",
    "# дропнем весь этот мусор через drop\n",
    "information_diab_data=diab_dedupped.drop(low_information_cols, axis=1)\n",
    "print(f'Результирующее число признаков: {information_diab_data.shape[1]}')\n",
    "print(f'Результирующее число записей: {information_diab_data.shape[0]}')\n",
    "information_diab_data.head()"
   ]
  },
  {
   "attachments": {},
   "cell_type": "markdown",
   "metadata": {},
   "source": [
    "Задание 8.3\n",
    "Попробуйте найти пропуски в данных с помощью метода isnull().\n",
    "\n",
    "Спойлер: ничего не найдёте. А они есть! Просто они скрыты от наших глаз. В таблице пропуски в столбцах Glucose, BloodPressure, SkinThickness, Insulin и BMI обозначены нулём, поэтому традиционные методы поиска пропусков ничего вам не покажут. Давайте это исправим!\n",
    "\n",
    "Замените все записи, равные 0, в столбцах Glucose, BloodPressure, SkinThickness, Insulin и BMI на символ пропуска. Его вы можете взять из библиотеки numpy: np.nan.\n",
    "\n",
    "Какая доля пропусков содержится в столбце Insulin? Ответ округлите до сотых."
   ]
  },
  {
   "cell_type": "code",
   "execution_count": 41,
   "metadata": {},
   "outputs": [
    {
     "data": {
      "text/plain": [
       "Insulin                     0.49\n",
       "SkinThickness               0.30\n",
       "BloodPressure               0.05\n",
       "Glucose                     0.01\n",
       "BMI                         0.01\n",
       "Pregnancies                 0.00\n",
       "DiabetesPedigreeFunction    0.00\n",
       "Age                         0.00\n",
       "Outcome                     0.00\n",
       "dtype: float64"
      ]
     },
     "execution_count": 41,
     "metadata": {},
     "output_type": "execute_result"
    }
   ],
   "source": [
    "def nan_function(x):\n",
    "    return np.nan if x == 0 else x\n",
    "information_diab_data[\"Glucose\"]=information_diab_data[\"Glucose\"].apply(nan_function)\n",
    "information_diab_data[\"BloodPressure\"]=information_diab_data[\"BloodPressure\"].apply(nan_function)\n",
    "information_diab_data[\"SkinThickness\"]=information_diab_data[\"SkinThickness\"].apply(nan_function)\n",
    "information_diab_data[\"Insulin\"]=information_diab_data[\"Insulin\"].apply(nan_function)\n",
    "information_diab_data[\"BMI\"]=information_diab_data[\"BMI\"].apply(nan_function)\n",
    "information_diab_data.isnull().mean().round(2).sort_values(ascending=False)"
   ]
  },
  {
   "attachments": {},
   "cell_type": "markdown",
   "metadata": {},
   "source": [
    "Задание 8.4. Удалите из данных признаки, где число пропусков составляет более 30 %. Сколько признаков осталось в ваших данных (с учетом удаленных неинформативных признаков в задании 8.2)?"
   ]
  },
  {
   "cell_type": "code",
   "execution_count": 44,
   "metadata": {},
   "outputs": [
    {
     "name": "stdout",
     "output_type": "stream",
     "text": [
      "8\n"
     ]
    }
   ],
   "source": [
    "#задаем минимальный порог: вычисляем 70% от числа строк\n",
    "thresh=information_diab_data.shape[0]*0.7\n",
    "#удаляем столбцы, в которых более 30% (100-70) пропусков\n",
    "information_diab_data=information_diab_data.dropna(thresh=thresh, axis=1)\n",
    "#отображаем результирующую долю пропусков\n",
    "information_diab_data.isnull().mean()\n",
    "print(information_diab_data.shape[1])"
   ]
  },
  {
   "attachments": {},
   "cell_type": "markdown",
   "metadata": {},
   "source": [
    "Задание 8.5. Удалите из данных только те строки, в которых содержится более двух пропусков одновременно. Чему равно результирующее число записей в таблице?"
   ]
  },
  {
   "cell_type": "code",
   "execution_count": 48,
   "metadata": {},
   "outputs": [
    {
     "name": "stdout",
     "output_type": "stream",
     "text": [
      "Результирующее число записей: 761\n"
     ]
    }
   ],
   "source": [
    "n=information_diab_data.shape[1]\n",
    "information_diab_data=information_diab_data.dropna(thresh=n-2, axis=0)\n",
    "print(f'Результирующее число записей: {information_diab_data.shape[0]}')"
   ]
  },
  {
   "attachments": {},
   "cell_type": "markdown",
   "metadata": {},
   "source": [
    "Задание 8.6. В оставшихся записях замените пропуски на медиану. Чему равно среднее значение в столбце SkinThickness? Ответ округлите до десятых."
   ]
  }
 ],
 "metadata": {
  "kernelspec": {
   "display_name": "Python 3",
   "language": "python",
   "name": "python3"
  },
  "language_info": {
   "codemirror_mode": {
    "name": "ipython",
    "version": 3
   },
   "file_extension": ".py",
   "mimetype": "text/x-python",
   "name": "python",
   "nbconvert_exporter": "python",
   "pygments_lexer": "ipython3",
   "version": "3.9.10"
  },
  "orig_nbformat": 4
 },
 "nbformat": 4,
 "nbformat_minor": 2
}
